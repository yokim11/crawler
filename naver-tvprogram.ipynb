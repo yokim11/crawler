{
 "cells": [
  {
   "cell_type": "code",
   "execution_count": 1,
   "metadata": {},
   "outputs": [],
   "source": [
    "#-*- coding: utf-8 -*-\n",
    "\n",
    "from time import sleep\n",
    "import requests\n",
    "import json\n",
    "from pytz import timezone\n",
    "from datetime import datetime\n",
    "from urllib.parse import urlencode\n",
    "from bs4 import BeautifulSoup\n",
    "#import urllib3\n",
    "#urllib3.disable_warnings()"
   ]
  },
  {
   "cell_type": "code",
   "execution_count": 38,
   "metadata": {},
   "outputs": [],
   "source": [
    "def get_tvN(day_list):\n",
    "    #tvN\n",
    "    #https://m.search.naver.com/p/csearch/content/nqapirender.nhn?callback=jQuery22404932610284963639_1588311372472&key=SingleChannelDailySchedule&where=m&pkid=66&u1=814825&u2=20200501\n",
    "\n",
    "    total = 0\n",
    "    program_list = set()\n",
    "        \n",
    "    for craw_day in day_list:\n",
    "        base_url = 'https://m.search.naver.com/p/csearch/content/nqapirender.nhn?callback=jQuery22404932610284963639_1588311372472&key=SingleChannelDailySchedule&where=m&pkid=66&u1=814825&u2=' + str(craw_day)\n",
    "        \n",
    "        arr = base_url.split('?')\n",
    "        arr2 = arr[1].split('&')\n",
    "        skip_word = (arr2[0].split('='))[1] + '( '\n",
    "        print (base_url)\n",
    "        \n",
    "        req = requests.get(base_url, verify=False)\n",
    "        total_data1 = req.text\n",
    "        total_data2 = total_data1.replace(skip_word, '')\n",
    "        total_data3 = total_data2.replace(');', '')\n",
    "\n",
    "        var = json.loads(total_data3)\n",
    "        naver_list = var['dataHtml']\n",
    "\n",
    "        for link in naver_list:\n",
    "            soup = BeautifulSoup(link, \"html.parser\")\n",
    "            total_data = soup.find_all(attrs={'class': 'lk'})\n",
    "            total = total + len(total_data)\n",
    "\n",
    "            for link in total_data:\n",
    "                program_list.add(link.text)\n",
    "\n",
    "            #print ('\\n#################################\\n')\n",
    "            #print (program_list)\n",
    "            #print ('\\n===> program_list : ', len(program_list))\n",
    "\n",
    "    return (program_list)"
   ]
  },
  {
   "cell_type": "code",
   "execution_count": 55,
   "metadata": {},
   "outputs": [],
   "source": [
    "def get_general(day_list):\n",
    "    channel_list = [\n",
    "        #지상파\n",
    "        'https://m.search.naver.com/p/csearch/content/nqapirender.nhn?callback=jQuery22406981672323418231_1588307496613&key=MultiChannelDailySchedule&where=m&pkid=66&u1=100&u2=&u3=1+2+3&u5=0&u4='    \n",
    "        #종편\n",
    "        ,\n",
    "        'https://m.search.naver.com/p/csearch/content/nqapirender.nhn?callback=jQuery22408213267523362562_1588310643412&key=MultiChannelDailySchedule&where=m&pkid=66&u1=500&u2=&u3=&u5=0&u4='\n",
    "        #캐이블\n",
    "        ,\n",
    "        'https://m.search.naver.com/p/csearch/content/nqapirender.nhn?callback=jQuery22406981672323418231_1588307496613&key=MultiChannelDailySchedule&where=m&pkid=66&u1=200&u2=&u3=12&u5=0&u4='\n",
    "        #스카이프\n",
    "        ,\n",
    "        'https://m.search.naver.com/p/csearch/content/nqapirender.nhn?callback=jQuery22406981672323418231_1588307496613&key=MultiChannelDailySchedule&where=m&pkid=66&u1=300&u2=&u3=25&u5=0&u4='\n",
    "        #라디오\n",
    "        ,\n",
    "        'https://m.search.naver.com/p/csearch/content/nqapirender.nhn?callback=jQuery22406981672323418231_1588307496613&key=MultiChannelDailySchedule&where=m&pkid=66&u1=400&u2=&u3=&u5=0&u4='\n",
    "    ]\n",
    "\n",
    "    total = 0\n",
    "    program_list = set()\n",
    "\n",
    "    for base_url in channel_list:\n",
    "        \n",
    "        for craw_day in day_list:\n",
    "            base_url = base_url + str(craw_day)\n",
    "\n",
    "            arr = base_url.split('?')\n",
    "            arr2 = arr[1].split('&')\n",
    "            skip_word = (arr2[0].split('='))[1] + '( '\n",
    "            print (skip_word)\n",
    "\n",
    "            req = requests.get(base_url, verify=False)\n",
    "            total_data1 = req.text\n",
    "            total_data2 = total_data1.replace(skip_word, '')\n",
    "            total_data3 = total_data2.replace(');', '')\n",
    "\n",
    "            var = json.loads(total_data3)\n",
    "            naver_list = var['dataHtml']\n",
    "\n",
    "            for link in naver_list:\n",
    "                soup = BeautifulSoup(link, \"html.parser\")\n",
    "                total_data = soup.find_all(attrs={'class': 'pr_name'})\n",
    "                total = total + len(total_data)\n",
    "                for p in total_data:\n",
    "                    #print (p.text)\n",
    "                    program_list.add(p.text)\n",
    "\n",
    "            #print ('\\n#################################\\n')\n",
    "            #print (program_list)\n",
    "            #print ('\\n===> program_list : ', len(program_list))\n",
    "\n",
    "    return (program_list)\n"
   ]
  },
  {
   "cell_type": "code",
   "execution_count": 52,
   "metadata": {},
   "outputs": [],
   "source": [
    "def get_pages():\n",
    "    pages = set() # 애초에 set은 중복을 허용하지 않음 \n",
    "\n",
    "    #지상파\n",
    "    base_uri = 'https://m.search.naver.com/search.naver'\n",
    "    base_url = 'https://m.search.naver.com/search.naver?where=m&query=%EB%B0%A9%EC%86%A1%ED%8E%B8%EC%84%B1%ED%91%9C&sm=mtb_she&qdt=0'\n",
    "    req = requests.get(base_url, verify=False)\n",
    "    soup = BeautifulSoup(req.text, \"html.parser\")\n",
    "    total_data = soup.find(attrs={'class': 'channel_list'})\n",
    "    \n",
    "    craw_baseurl_list = set()\n",
    "    for link in total_data.findAll(\"a\"):\n",
    "        if 'href' in link.attrs: \n",
    "            url = base_uri + link.attrs['href']\n",
    "            print(url)\n",
    "            pages.add(url)\n",
    "\n",
    "    return (pages)"
   ]
  },
  {
   "cell_type": "code",
   "execution_count": 53,
   "metadata": {},
   "outputs": [],
   "source": [
    "def craw_data(base_url):\n",
    "    req = requests.get(base_url, verify=False)\n",
    "    soup = BeautifulSoup(req.text, \"html.parser\")\n",
    "    total_data = soup.find(attrs={'class': 'sc cs_tvtime _cs_tvtime'})\n",
    "    total_data2 = total_data.find_all(attrs={'class': 'lk'})\n",
    "\n",
    "    craw_index = 0\n",
    "    craw_data = set()\n",
    "    \n",
    "    for d in total_data2:\n",
    "        craw_index = craw_index + 1\n",
    "        craw_data.add(d.text)\n",
    "        print(craw_index, d.text)\n",
    "        \n",
    "    return (craw_data)"
   ]
  },
  {
   "cell_type": "code",
   "execution_count": 59,
   "metadata": {},
   "outputs": [
    {
     "name": "stdout",
     "output_type": "stream",
     "text": [
      "https://m.search.naver.com/p/csearch/content/nqapirender.nhn?callback=jQuery22404932610284963639_1588311372472&key=SingleChannelDailySchedule&where=m&pkid=66&u1=814825&u2=20200426\n",
      "https://m.search.naver.com/p/csearch/content/nqapirender.nhn?callback=jQuery22404932610284963639_1588311372472&key=SingleChannelDailySchedule&where=m&pkid=66&u1=814825&u2=20200427\n",
      "https://m.search.naver.com/p/csearch/content/nqapirender.nhn?callback=jQuery22404932610284963639_1588311372472&key=SingleChannelDailySchedule&where=m&pkid=66&u1=814825&u2=20200428\n"
     ]
    },
    {
     "name": "stderr",
     "output_type": "stream",
     "text": [
      "/opt/conda/lib/python3.6/site-packages/urllib3/connectionpool.py:847: InsecureRequestWarning: Unverified HTTPS request is being made. Adding certificate verification is strongly advised. See: https://urllib3.readthedocs.io/en/latest/advanced-usage.html#ssl-warnings\n",
      "  InsecureRequestWarning)\n",
      "/opt/conda/lib/python3.6/site-packages/urllib3/connectionpool.py:847: InsecureRequestWarning: Unverified HTTPS request is being made. Adding certificate verification is strongly advised. See: https://urllib3.readthedocs.io/en/latest/advanced-usage.html#ssl-warnings\n",
      "  InsecureRequestWarning)\n",
      "/opt/conda/lib/python3.6/site-packages/urllib3/connectionpool.py:847: InsecureRequestWarning: Unverified HTTPS request is being made. Adding certificate verification is strongly advised. See: https://urllib3.readthedocs.io/en/latest/advanced-usage.html#ssl-warnings\n",
      "  InsecureRequestWarning)\n"
     ]
    },
    {
     "name": "stdout",
     "output_type": "stream",
     "text": [
      "https://m.search.naver.com/p/csearch/content/nqapirender.nhn?callback=jQuery22404932610284963639_1588311372472&key=SingleChannelDailySchedule&where=m&pkid=66&u1=814825&u2=20200429\n",
      "https://m.search.naver.com/p/csearch/content/nqapirender.nhn?callback=jQuery22404932610284963639_1588311372472&key=SingleChannelDailySchedule&where=m&pkid=66&u1=814825&u2=20200430\n",
      "https://m.search.naver.com/p/csearch/content/nqapirender.nhn?callback=jQuery22404932610284963639_1588311372472&key=SingleChannelDailySchedule&where=m&pkid=66&u1=814825&u2=20200501\n"
     ]
    },
    {
     "name": "stderr",
     "output_type": "stream",
     "text": [
      "/opt/conda/lib/python3.6/site-packages/urllib3/connectionpool.py:847: InsecureRequestWarning: Unverified HTTPS request is being made. Adding certificate verification is strongly advised. See: https://urllib3.readthedocs.io/en/latest/advanced-usage.html#ssl-warnings\n",
      "  InsecureRequestWarning)\n",
      "/opt/conda/lib/python3.6/site-packages/urllib3/connectionpool.py:847: InsecureRequestWarning: Unverified HTTPS request is being made. Adding certificate verification is strongly advised. See: https://urllib3.readthedocs.io/en/latest/advanced-usage.html#ssl-warnings\n",
      "  InsecureRequestWarning)\n",
      "/opt/conda/lib/python3.6/site-packages/urllib3/connectionpool.py:847: InsecureRequestWarning: Unverified HTTPS request is being made. Adding certificate verification is strongly advised. See: https://urllib3.readthedocs.io/en/latest/advanced-usage.html#ssl-warnings\n",
      "  InsecureRequestWarning)\n"
     ]
    },
    {
     "name": "stdout",
     "output_type": "stream",
     "text": [
      "https://m.search.naver.com/p/csearch/content/nqapirender.nhn?callback=jQuery22404932610284963639_1588311372472&key=SingleChannelDailySchedule&where=m&pkid=66&u1=814825&u2=20200502\n",
      "https://m.search.naver.com/p/csearch/content/nqapirender.nhn?callback=jQuery22404932610284963639_1588311372472&key=SingleChannelDailySchedule&where=m&pkid=66&u1=814825&u2=20200503\n",
      "https://m.search.naver.com/p/csearch/content/nqapirender.nhn?callback=jQuery22404932610284963639_1588311372472&key=SingleChannelDailySchedule&where=m&pkid=66&u1=814825&u2=20200504\n"
     ]
    },
    {
     "name": "stderr",
     "output_type": "stream",
     "text": [
      "/opt/conda/lib/python3.6/site-packages/urllib3/connectionpool.py:847: InsecureRequestWarning: Unverified HTTPS request is being made. Adding certificate verification is strongly advised. See: https://urllib3.readthedocs.io/en/latest/advanced-usage.html#ssl-warnings\n",
      "  InsecureRequestWarning)\n",
      "/opt/conda/lib/python3.6/site-packages/urllib3/connectionpool.py:847: InsecureRequestWarning: Unverified HTTPS request is being made. Adding certificate verification is strongly advised. See: https://urllib3.readthedocs.io/en/latest/advanced-usage.html#ssl-warnings\n",
      "  InsecureRequestWarning)\n",
      "/opt/conda/lib/python3.6/site-packages/urllib3/connectionpool.py:847: InsecureRequestWarning: Unverified HTTPS request is being made. Adding certificate verification is strongly advised. See: https://urllib3.readthedocs.io/en/latest/advanced-usage.html#ssl-warnings\n",
      "  InsecureRequestWarning)\n"
     ]
    },
    {
     "name": "stdout",
     "output_type": "stream",
     "text": [
      "https://m.search.naver.com/p/csearch/content/nqapirender.nhn?callback=jQuery22404932610284963639_1588311372472&key=SingleChannelDailySchedule&where=m&pkid=66&u1=814825&u2=20200505\n",
      "jQuery22406981672323418231_1588307496613( \n"
     ]
    },
    {
     "name": "stderr",
     "output_type": "stream",
     "text": [
      "/opt/conda/lib/python3.6/site-packages/urllib3/connectionpool.py:847: InsecureRequestWarning: Unverified HTTPS request is being made. Adding certificate verification is strongly advised. See: https://urllib3.readthedocs.io/en/latest/advanced-usage.html#ssl-warnings\n",
      "  InsecureRequestWarning)\n",
      "/opt/conda/lib/python3.6/site-packages/urllib3/connectionpool.py:847: InsecureRequestWarning: Unverified HTTPS request is being made. Adding certificate verification is strongly advised. See: https://urllib3.readthedocs.io/en/latest/advanced-usage.html#ssl-warnings\n",
      "  InsecureRequestWarning)\n"
     ]
    },
    {
     "name": "stdout",
     "output_type": "stream",
     "text": [
      "jQuery22406981672323418231_1588307496613( \n"
     ]
    },
    {
     "name": "stderr",
     "output_type": "stream",
     "text": [
      "/opt/conda/lib/python3.6/site-packages/urllib3/connectionpool.py:847: InsecureRequestWarning: Unverified HTTPS request is being made. Adding certificate verification is strongly advised. See: https://urllib3.readthedocs.io/en/latest/advanced-usage.html#ssl-warnings\n",
      "  InsecureRequestWarning)\n"
     ]
    },
    {
     "name": "stdout",
     "output_type": "stream",
     "text": [
      "jQuery22406981672323418231_1588307496613( \n",
      "jQuery22406981672323418231_1588307496613( \n"
     ]
    },
    {
     "name": "stderr",
     "output_type": "stream",
     "text": [
      "/opt/conda/lib/python3.6/site-packages/urllib3/connectionpool.py:847: InsecureRequestWarning: Unverified HTTPS request is being made. Adding certificate verification is strongly advised. See: https://urllib3.readthedocs.io/en/latest/advanced-usage.html#ssl-warnings\n",
      "  InsecureRequestWarning)\n",
      "/opt/conda/lib/python3.6/site-packages/urllib3/connectionpool.py:847: InsecureRequestWarning: Unverified HTTPS request is being made. Adding certificate verification is strongly advised. See: https://urllib3.readthedocs.io/en/latest/advanced-usage.html#ssl-warnings\n",
      "  InsecureRequestWarning)\n"
     ]
    },
    {
     "name": "stdout",
     "output_type": "stream",
     "text": [
      "jQuery22406981672323418231_1588307496613( \n",
      "jQuery22406981672323418231_1588307496613( \n"
     ]
    },
    {
     "name": "stderr",
     "output_type": "stream",
     "text": [
      "/opt/conda/lib/python3.6/site-packages/urllib3/connectionpool.py:847: InsecureRequestWarning: Unverified HTTPS request is being made. Adding certificate verification is strongly advised. See: https://urllib3.readthedocs.io/en/latest/advanced-usage.html#ssl-warnings\n",
      "  InsecureRequestWarning)\n",
      "/opt/conda/lib/python3.6/site-packages/urllib3/connectionpool.py:847: InsecureRequestWarning: Unverified HTTPS request is being made. Adding certificate verification is strongly advised. See: https://urllib3.readthedocs.io/en/latest/advanced-usage.html#ssl-warnings\n",
      "  InsecureRequestWarning)\n"
     ]
    },
    {
     "name": "stdout",
     "output_type": "stream",
     "text": [
      "jQuery22406981672323418231_1588307496613( \n",
      "jQuery22406981672323418231_1588307496613( \n"
     ]
    },
    {
     "name": "stderr",
     "output_type": "stream",
     "text": [
      "/opt/conda/lib/python3.6/site-packages/urllib3/connectionpool.py:847: InsecureRequestWarning: Unverified HTTPS request is being made. Adding certificate verification is strongly advised. See: https://urllib3.readthedocs.io/en/latest/advanced-usage.html#ssl-warnings\n",
      "  InsecureRequestWarning)\n",
      "/opt/conda/lib/python3.6/site-packages/urllib3/connectionpool.py:847: InsecureRequestWarning: Unverified HTTPS request is being made. Adding certificate verification is strongly advised. See: https://urllib3.readthedocs.io/en/latest/advanced-usage.html#ssl-warnings\n",
      "  InsecureRequestWarning)\n",
      "/opt/conda/lib/python3.6/site-packages/urllib3/connectionpool.py:847: InsecureRequestWarning: Unverified HTTPS request is being made. Adding certificate verification is strongly advised. See: https://urllib3.readthedocs.io/en/latest/advanced-usage.html#ssl-warnings\n",
      "  InsecureRequestWarning)\n"
     ]
    },
    {
     "name": "stdout",
     "output_type": "stream",
     "text": [
      "jQuery22406981672323418231_1588307496613( \n",
      "jQuery22406981672323418231_1588307496613( \n"
     ]
    },
    {
     "name": "stderr",
     "output_type": "stream",
     "text": [
      "/opt/conda/lib/python3.6/site-packages/urllib3/connectionpool.py:847: InsecureRequestWarning: Unverified HTTPS request is being made. Adding certificate verification is strongly advised. See: https://urllib3.readthedocs.io/en/latest/advanced-usage.html#ssl-warnings\n",
      "  InsecureRequestWarning)\n",
      "/opt/conda/lib/python3.6/site-packages/urllib3/connectionpool.py:847: InsecureRequestWarning: Unverified HTTPS request is being made. Adding certificate verification is strongly advised. See: https://urllib3.readthedocs.io/en/latest/advanced-usage.html#ssl-warnings\n",
      "  InsecureRequestWarning)\n"
     ]
    },
    {
     "name": "stdout",
     "output_type": "stream",
     "text": [
      "jQuery22408213267523362562_1588310643412( \n",
      "jQuery22408213267523362562_1588310643412( \n"
     ]
    },
    {
     "name": "stderr",
     "output_type": "stream",
     "text": [
      "/opt/conda/lib/python3.6/site-packages/urllib3/connectionpool.py:847: InsecureRequestWarning: Unverified HTTPS request is being made. Adding certificate verification is strongly advised. See: https://urllib3.readthedocs.io/en/latest/advanced-usage.html#ssl-warnings\n",
      "  InsecureRequestWarning)\n"
     ]
    },
    {
     "name": "stdout",
     "output_type": "stream",
     "text": [
      "jQuery22408213267523362562_1588310643412( \n",
      "jQuery22408213267523362562_1588310643412( \n"
     ]
    },
    {
     "name": "stderr",
     "output_type": "stream",
     "text": [
      "/opt/conda/lib/python3.6/site-packages/urllib3/connectionpool.py:847: InsecureRequestWarning: Unverified HTTPS request is being made. Adding certificate verification is strongly advised. See: https://urllib3.readthedocs.io/en/latest/advanced-usage.html#ssl-warnings\n",
      "  InsecureRequestWarning)\n",
      "/opt/conda/lib/python3.6/site-packages/urllib3/connectionpool.py:847: InsecureRequestWarning: Unverified HTTPS request is being made. Adding certificate verification is strongly advised. See: https://urllib3.readthedocs.io/en/latest/advanced-usage.html#ssl-warnings\n",
      "  InsecureRequestWarning)\n"
     ]
    },
    {
     "name": "stdout",
     "output_type": "stream",
     "text": [
      "jQuery22408213267523362562_1588310643412( \n",
      "jQuery22408213267523362562_1588310643412( \n"
     ]
    },
    {
     "name": "stderr",
     "output_type": "stream",
     "text": [
      "/opt/conda/lib/python3.6/site-packages/urllib3/connectionpool.py:847: InsecureRequestWarning: Unverified HTTPS request is being made. Adding certificate verification is strongly advised. See: https://urllib3.readthedocs.io/en/latest/advanced-usage.html#ssl-warnings\n",
      "  InsecureRequestWarning)\n",
      "/opt/conda/lib/python3.6/site-packages/urllib3/connectionpool.py:847: InsecureRequestWarning: Unverified HTTPS request is being made. Adding certificate verification is strongly advised. See: https://urllib3.readthedocs.io/en/latest/advanced-usage.html#ssl-warnings\n",
      "  InsecureRequestWarning)\n"
     ]
    },
    {
     "name": "stdout",
     "output_type": "stream",
     "text": [
      "jQuery22408213267523362562_1588310643412( \n",
      "jQuery22408213267523362562_1588310643412( \n"
     ]
    },
    {
     "name": "stderr",
     "output_type": "stream",
     "text": [
      "/opt/conda/lib/python3.6/site-packages/urllib3/connectionpool.py:847: InsecureRequestWarning: Unverified HTTPS request is being made. Adding certificate verification is strongly advised. See: https://urllib3.readthedocs.io/en/latest/advanced-usage.html#ssl-warnings\n",
      "  InsecureRequestWarning)\n",
      "/opt/conda/lib/python3.6/site-packages/urllib3/connectionpool.py:847: InsecureRequestWarning: Unverified HTTPS request is being made. Adding certificate verification is strongly advised. See: https://urllib3.readthedocs.io/en/latest/advanced-usage.html#ssl-warnings\n",
      "  InsecureRequestWarning)\n"
     ]
    },
    {
     "name": "stdout",
     "output_type": "stream",
     "text": [
      "jQuery22408213267523362562_1588310643412( \n",
      "jQuery22408213267523362562_1588310643412( \n"
     ]
    },
    {
     "name": "stderr",
     "output_type": "stream",
     "text": [
      "/opt/conda/lib/python3.6/site-packages/urllib3/connectionpool.py:847: InsecureRequestWarning: Unverified HTTPS request is being made. Adding certificate verification is strongly advised. See: https://urllib3.readthedocs.io/en/latest/advanced-usage.html#ssl-warnings\n",
      "  InsecureRequestWarning)\n",
      "/opt/conda/lib/python3.6/site-packages/urllib3/connectionpool.py:847: InsecureRequestWarning: Unverified HTTPS request is being made. Adding certificate verification is strongly advised. See: https://urllib3.readthedocs.io/en/latest/advanced-usage.html#ssl-warnings\n",
      "  InsecureRequestWarning)\n"
     ]
    },
    {
     "name": "stdout",
     "output_type": "stream",
     "text": [
      "jQuery22406981672323418231_1588307496613( \n"
     ]
    },
    {
     "name": "stderr",
     "output_type": "stream",
     "text": [
      "/opt/conda/lib/python3.6/site-packages/urllib3/connectionpool.py:847: InsecureRequestWarning: Unverified HTTPS request is being made. Adding certificate verification is strongly advised. See: https://urllib3.readthedocs.io/en/latest/advanced-usage.html#ssl-warnings\n",
      "  InsecureRequestWarning)\n"
     ]
    },
    {
     "name": "stdout",
     "output_type": "stream",
     "text": [
      "jQuery22406981672323418231_1588307496613( \n"
     ]
    },
    {
     "name": "stderr",
     "output_type": "stream",
     "text": [
      "/opt/conda/lib/python3.6/site-packages/urllib3/connectionpool.py:847: InsecureRequestWarning: Unverified HTTPS request is being made. Adding certificate verification is strongly advised. See: https://urllib3.readthedocs.io/en/latest/advanced-usage.html#ssl-warnings\n",
      "  InsecureRequestWarning)\n"
     ]
    },
    {
     "name": "stdout",
     "output_type": "stream",
     "text": [
      "jQuery22406981672323418231_1588307496613( \n",
      "jQuery22406981672323418231_1588307496613( \n"
     ]
    },
    {
     "name": "stderr",
     "output_type": "stream",
     "text": [
      "/opt/conda/lib/python3.6/site-packages/urllib3/connectionpool.py:847: InsecureRequestWarning: Unverified HTTPS request is being made. Adding certificate verification is strongly advised. See: https://urllib3.readthedocs.io/en/latest/advanced-usage.html#ssl-warnings\n",
      "  InsecureRequestWarning)\n",
      "/opt/conda/lib/python3.6/site-packages/urllib3/connectionpool.py:847: InsecureRequestWarning: Unverified HTTPS request is being made. Adding certificate verification is strongly advised. See: https://urllib3.readthedocs.io/en/latest/advanced-usage.html#ssl-warnings\n",
      "  InsecureRequestWarning)\n"
     ]
    },
    {
     "name": "stdout",
     "output_type": "stream",
     "text": [
      "jQuery22406981672323418231_1588307496613( \n",
      "jQuery22406981672323418231_1588307496613( \n"
     ]
    },
    {
     "name": "stderr",
     "output_type": "stream",
     "text": [
      "/opt/conda/lib/python3.6/site-packages/urllib3/connectionpool.py:847: InsecureRequestWarning: Unverified HTTPS request is being made. Adding certificate verification is strongly advised. See: https://urllib3.readthedocs.io/en/latest/advanced-usage.html#ssl-warnings\n",
      "  InsecureRequestWarning)\n",
      "/opt/conda/lib/python3.6/site-packages/urllib3/connectionpool.py:847: InsecureRequestWarning: Unverified HTTPS request is being made. Adding certificate verification is strongly advised. See: https://urllib3.readthedocs.io/en/latest/advanced-usage.html#ssl-warnings\n",
      "  InsecureRequestWarning)\n"
     ]
    },
    {
     "name": "stdout",
     "output_type": "stream",
     "text": [
      "jQuery22406981672323418231_1588307496613( \n",
      "jQuery22406981672323418231_1588307496613( \n"
     ]
    },
    {
     "name": "stderr",
     "output_type": "stream",
     "text": [
      "/opt/conda/lib/python3.6/site-packages/urllib3/connectionpool.py:847: InsecureRequestWarning: Unverified HTTPS request is being made. Adding certificate verification is strongly advised. See: https://urllib3.readthedocs.io/en/latest/advanced-usage.html#ssl-warnings\n",
      "  InsecureRequestWarning)\n",
      "/opt/conda/lib/python3.6/site-packages/urllib3/connectionpool.py:847: InsecureRequestWarning: Unverified HTTPS request is being made. Adding certificate verification is strongly advised. See: https://urllib3.readthedocs.io/en/latest/advanced-usage.html#ssl-warnings\n",
      "  InsecureRequestWarning)\n"
     ]
    },
    {
     "name": "stdout",
     "output_type": "stream",
     "text": [
      "jQuery22406981672323418231_1588307496613( \n",
      "jQuery22406981672323418231_1588307496613( \n"
     ]
    },
    {
     "name": "stderr",
     "output_type": "stream",
     "text": [
      "/opt/conda/lib/python3.6/site-packages/urllib3/connectionpool.py:847: InsecureRequestWarning: Unverified HTTPS request is being made. Adding certificate verification is strongly advised. See: https://urllib3.readthedocs.io/en/latest/advanced-usage.html#ssl-warnings\n",
      "  InsecureRequestWarning)\n",
      "/opt/conda/lib/python3.6/site-packages/urllib3/connectionpool.py:847: InsecureRequestWarning: Unverified HTTPS request is being made. Adding certificate verification is strongly advised. See: https://urllib3.readthedocs.io/en/latest/advanced-usage.html#ssl-warnings\n",
      "  InsecureRequestWarning)\n"
     ]
    },
    {
     "name": "stdout",
     "output_type": "stream",
     "text": [
      "jQuery22406981672323418231_1588307496613( \n"
     ]
    },
    {
     "name": "stderr",
     "output_type": "stream",
     "text": [
      "/opt/conda/lib/python3.6/site-packages/urllib3/connectionpool.py:847: InsecureRequestWarning: Unverified HTTPS request is being made. Adding certificate verification is strongly advised. See: https://urllib3.readthedocs.io/en/latest/advanced-usage.html#ssl-warnings\n",
      "  InsecureRequestWarning)\n"
     ]
    },
    {
     "name": "stdout",
     "output_type": "stream",
     "text": [
      "jQuery22406981672323418231_1588307496613( \n"
     ]
    },
    {
     "name": "stderr",
     "output_type": "stream",
     "text": [
      "/opt/conda/lib/python3.6/site-packages/urllib3/connectionpool.py:847: InsecureRequestWarning: Unverified HTTPS request is being made. Adding certificate verification is strongly advised. See: https://urllib3.readthedocs.io/en/latest/advanced-usage.html#ssl-warnings\n",
      "  InsecureRequestWarning)\n"
     ]
    },
    {
     "name": "stdout",
     "output_type": "stream",
     "text": [
      "jQuery22406981672323418231_1588307496613( \n",
      "jQuery22406981672323418231_1588307496613( \n"
     ]
    },
    {
     "name": "stderr",
     "output_type": "stream",
     "text": [
      "/opt/conda/lib/python3.6/site-packages/urllib3/connectionpool.py:847: InsecureRequestWarning: Unverified HTTPS request is being made. Adding certificate verification is strongly advised. See: https://urllib3.readthedocs.io/en/latest/advanced-usage.html#ssl-warnings\n",
      "  InsecureRequestWarning)\n",
      "/opt/conda/lib/python3.6/site-packages/urllib3/connectionpool.py:847: InsecureRequestWarning: Unverified HTTPS request is being made. Adding certificate verification is strongly advised. See: https://urllib3.readthedocs.io/en/latest/advanced-usage.html#ssl-warnings\n",
      "  InsecureRequestWarning)\n"
     ]
    },
    {
     "name": "stdout",
     "output_type": "stream",
     "text": [
      "jQuery22406981672323418231_1588307496613( \n",
      "jQuery22406981672323418231_1588307496613( \n"
     ]
    },
    {
     "name": "stderr",
     "output_type": "stream",
     "text": [
      "/opt/conda/lib/python3.6/site-packages/urllib3/connectionpool.py:847: InsecureRequestWarning: Unverified HTTPS request is being made. Adding certificate verification is strongly advised. See: https://urllib3.readthedocs.io/en/latest/advanced-usage.html#ssl-warnings\n",
      "  InsecureRequestWarning)\n",
      "/opt/conda/lib/python3.6/site-packages/urllib3/connectionpool.py:847: InsecureRequestWarning: Unverified HTTPS request is being made. Adding certificate verification is strongly advised. See: https://urllib3.readthedocs.io/en/latest/advanced-usage.html#ssl-warnings\n",
      "  InsecureRequestWarning)\n"
     ]
    },
    {
     "name": "stdout",
     "output_type": "stream",
     "text": [
      "jQuery22406981672323418231_1588307496613( \n",
      "jQuery22406981672323418231_1588307496613( \n"
     ]
    },
    {
     "name": "stderr",
     "output_type": "stream",
     "text": [
      "/opt/conda/lib/python3.6/site-packages/urllib3/connectionpool.py:847: InsecureRequestWarning: Unverified HTTPS request is being made. Adding certificate verification is strongly advised. See: https://urllib3.readthedocs.io/en/latest/advanced-usage.html#ssl-warnings\n",
      "  InsecureRequestWarning)\n",
      "/opt/conda/lib/python3.6/site-packages/urllib3/connectionpool.py:847: InsecureRequestWarning: Unverified HTTPS request is being made. Adding certificate verification is strongly advised. See: https://urllib3.readthedocs.io/en/latest/advanced-usage.html#ssl-warnings\n",
      "  InsecureRequestWarning)\n"
     ]
    },
    {
     "name": "stdout",
     "output_type": "stream",
     "text": [
      "jQuery22406981672323418231_1588307496613( \n",
      "jQuery22406981672323418231_1588307496613( \n"
     ]
    },
    {
     "name": "stderr",
     "output_type": "stream",
     "text": [
      "/opt/conda/lib/python3.6/site-packages/urllib3/connectionpool.py:847: InsecureRequestWarning: Unverified HTTPS request is being made. Adding certificate verification is strongly advised. See: https://urllib3.readthedocs.io/en/latest/advanced-usage.html#ssl-warnings\n",
      "  InsecureRequestWarning)\n",
      "/opt/conda/lib/python3.6/site-packages/urllib3/connectionpool.py:847: InsecureRequestWarning: Unverified HTTPS request is being made. Adding certificate verification is strongly advised. See: https://urllib3.readthedocs.io/en/latest/advanced-usage.html#ssl-warnings\n",
      "  InsecureRequestWarning)\n"
     ]
    },
    {
     "name": "stdout",
     "output_type": "stream",
     "text": [
      "jQuery22406981672323418231_1588307496613( \n"
     ]
    },
    {
     "name": "stderr",
     "output_type": "stream",
     "text": [
      "/opt/conda/lib/python3.6/site-packages/urllib3/connectionpool.py:847: InsecureRequestWarning: Unverified HTTPS request is being made. Adding certificate verification is strongly advised. See: https://urllib3.readthedocs.io/en/latest/advanced-usage.html#ssl-warnings\n",
      "  InsecureRequestWarning)\n"
     ]
    },
    {
     "name": "stdout",
     "output_type": "stream",
     "text": [
      "jQuery22406981672323418231_1588307496613( \n"
     ]
    },
    {
     "name": "stderr",
     "output_type": "stream",
     "text": [
      "/opt/conda/lib/python3.6/site-packages/urllib3/connectionpool.py:847: InsecureRequestWarning: Unverified HTTPS request is being made. Adding certificate verification is strongly advised. See: https://urllib3.readthedocs.io/en/latest/advanced-usage.html#ssl-warnings\n",
      "  InsecureRequestWarning)\n"
     ]
    },
    {
     "name": "stdout",
     "output_type": "stream",
     "text": [
      "jQuery22406981672323418231_1588307496613( \n",
      "jQuery22406981672323418231_1588307496613( \n"
     ]
    },
    {
     "name": "stderr",
     "output_type": "stream",
     "text": [
      "/opt/conda/lib/python3.6/site-packages/urllib3/connectionpool.py:847: InsecureRequestWarning: Unverified HTTPS request is being made. Adding certificate verification is strongly advised. See: https://urllib3.readthedocs.io/en/latest/advanced-usage.html#ssl-warnings\n",
      "  InsecureRequestWarning)\n",
      "/opt/conda/lib/python3.6/site-packages/urllib3/connectionpool.py:847: InsecureRequestWarning: Unverified HTTPS request is being made. Adding certificate verification is strongly advised. See: https://urllib3.readthedocs.io/en/latest/advanced-usage.html#ssl-warnings\n",
      "  InsecureRequestWarning)\n"
     ]
    },
    {
     "name": "stdout",
     "output_type": "stream",
     "text": [
      "jQuery22406981672323418231_1588307496613( \n",
      "jQuery22406981672323418231_1588307496613( \n"
     ]
    },
    {
     "name": "stderr",
     "output_type": "stream",
     "text": [
      "/opt/conda/lib/python3.6/site-packages/urllib3/connectionpool.py:847: InsecureRequestWarning: Unverified HTTPS request is being made. Adding certificate verification is strongly advised. See: https://urllib3.readthedocs.io/en/latest/advanced-usage.html#ssl-warnings\n",
      "  InsecureRequestWarning)\n",
      "/opt/conda/lib/python3.6/site-packages/urllib3/connectionpool.py:847: InsecureRequestWarning: Unverified HTTPS request is being made. Adding certificate verification is strongly advised. See: https://urllib3.readthedocs.io/en/latest/advanced-usage.html#ssl-warnings\n",
      "  InsecureRequestWarning)\n"
     ]
    },
    {
     "name": "stdout",
     "output_type": "stream",
     "text": [
      "jQuery22406981672323418231_1588307496613( \n",
      "jQuery22406981672323418231_1588307496613( \n"
     ]
    },
    {
     "name": "stderr",
     "output_type": "stream",
     "text": [
      "/opt/conda/lib/python3.6/site-packages/urllib3/connectionpool.py:847: InsecureRequestWarning: Unverified HTTPS request is being made. Adding certificate verification is strongly advised. See: https://urllib3.readthedocs.io/en/latest/advanced-usage.html#ssl-warnings\n",
      "  InsecureRequestWarning)\n",
      "/opt/conda/lib/python3.6/site-packages/urllib3/connectionpool.py:847: InsecureRequestWarning: Unverified HTTPS request is being made. Adding certificate verification is strongly advised. See: https://urllib3.readthedocs.io/en/latest/advanced-usage.html#ssl-warnings\n",
      "  InsecureRequestWarning)\n"
     ]
    },
    {
     "name": "stdout",
     "output_type": "stream",
     "text": [
      "jQuery22406981672323418231_1588307496613( \n",
      "jQuery22406981672323418231_1588307496613( \n"
     ]
    },
    {
     "name": "stderr",
     "output_type": "stream",
     "text": [
      "/opt/conda/lib/python3.6/site-packages/urllib3/connectionpool.py:847: InsecureRequestWarning: Unverified HTTPS request is being made. Adding certificate verification is strongly advised. See: https://urllib3.readthedocs.io/en/latest/advanced-usage.html#ssl-warnings\n",
      "  InsecureRequestWarning)\n",
      "/opt/conda/lib/python3.6/site-packages/urllib3/connectionpool.py:847: InsecureRequestWarning: Unverified HTTPS request is being made. Adding certificate verification is strongly advised. See: https://urllib3.readthedocs.io/en/latest/advanced-usage.html#ssl-warnings\n",
      "  InsecureRequestWarning)\n"
     ]
    },
    {
     "name": "stdout",
     "output_type": "stream",
     "text": [
      "len :  622\n",
      "{'도전, 골든벨', '자동공부책상 위키 2', '뉴스(뉴스투데이)', '나이트라인', '영화,왓수다', '내꺼야 폴록-숫자의 거리로 가다', '엉뚱남매 요리조리쇼', 'MBN 프레스룸', '뉴스(24:00)', 'JTBC 뉴스룸', '코로나19 통합뉴스룸 KBS 뉴스 7', '백세누리쇼', '애니갤러리', '신상출시 편스토랑', '배성재의 텐', '충격실화극 싸인', '20주년 기획 인간극장', '동상이몽2 너는 내운명', '엘리멘트리 2', 'IDOL RADIO', '딩동댕 유치원', '고스트 앤 크라임 4', '뉴스 퍼레이드', '노래의 날개 위에(재)', '오늘 아침 정지영입니다', '시사스페셜', '살맛 나는 오늘', '드래곤에그', 'NCIS:뉴올리언스 5', '세상의 모든 음악', '벅스봇', '집사부일체', '백세누리쇼 특별판', '이재익의 정치쇼 3,4부', '무한리필 샐러드', '가정의 달 특집 실화탐사대 1부', '헬스N라이프', '프리한 19', '웃고 떠들고 맛있는 하우스', '집사부일체 2부', 'KBS 네트워크 특선 고고씽', '신비한 동물퀴즈', '더 킹 : 영원의 군주 1부', '유영미의 마음은 언제나 청춘', '기적의 습관', '자이언트 펭TV 스페셜', '미래교육 플러스', '강석, 김혜영의 싱글벙글쇼', '신대동여지도', '코리언 지오그래픽 플러스', '명의', '장학퀴즈-학교에 가다', '특집다큐 장내 세균의 비밀 잘 먹고 잘 빼는 법', '생생정보 스페셜', '링크, 소프트웨어 세상', '헬로키즈 글로벌 동물 뉴스', '채널A 스페셜 - 다채로운 바다공원', '모란봉 클럽', \"아메리카's 퍼니스트 홈 비디오\", '헬로카봇 유니버스', '밥블레스유 2', '도올학당 수다승철', '미술 탐험대', '본격연예 한밤 2부', 'EBS 온라인개학 초등 국어 2-1 가', '식신로드 시즌4', 'TV CHOSUN 뉴스7', '스타와 직거래 유랑마켓', '진짜사랑 3', 'TV 동물농장 2부', '김이나의 밤편지', '다문화 고부 열전', '열린음악회', '아내의 맛 - 2부', '제보자들', '채널A 스페셜 - 세계의 미술관', '여성시대 양희은, 서경석입니다', '왕초보 영어', '심야식당', 'MBC 뉴스투데이 1부', '런닝맨 1부', 'SBS 뉴스', '삼시세끼 스페셜 슬기로운 어촌생활', 'EBS 정오뉴스', '공감 스페셜', '새아침의 클래식', '위험한 약속', '차이나는 클라스', '배철수의 음악캠프', '스쿨랜드-과학', '생방송 투데이 2부', '글로벌 특선다큐', '어쩌다 어른 다시보는 명강의', '김주우의 팝스테이션', '외식하는 날 2', '놀라운 토요일 도레미 마켓', '이십세기 힛-트쏭', '페파 피그', '엄마의 봄날', '살림9단의 만물상 플러스', '조PD의 비틀즈 라디오', '전국네트워크뉴스', '삼시세끼 어촌편 5', '명령이다, 비트!', '매일 10분 영어-메이슨의 어순 트레이닝', '전지적 참견 시점 2부', '국악의 향기', '수학의 원리 마테마티카', '예술교육다큐-아티스트', '1박 2일 시즌4', 'MBC 뉴스', '심용환의 타박타박 세계사', '최고의 요리비결', 'EBS 온라인개학 초등 수학 1-1', 'MBC네트워크특선 푸른 백세 어영차 바다야', '생생클래식', '뽀뽀뽀 모두야 놀자 스페셜', 'VJ 생생정보', '생방송 우리집 유치원', '개는 훌륭하다', '윤정수, 남창희의 미스터 라디오', '살맛나는 세상', '뉴스(18:00)', '백종원의 골목식당 2부', '생생 정보마당 스페셜', '정오의 희망곡 김신영입니다', '끼리끼리 2부', '아름다운 이 아침 김창완입니다', '애프터클럽', '집으로 가는 길 소이현입니다', 'TV쇼 진품명품', 'MBN 종합뉴스', '똥강아지들', '황금 나침반', '정치 데스크', '재해 대비 방송', 'SBS 인기가요', 'MBC PICK X 놀면 뭐하니? 스페셜', '직장탐구 팀', '생활의 발견', '접속! 무비월드 스페셜 1부', '당신의 한 끼', '무엇이든 물어보세요', '인생은 항구다', '놀라운 토요일', '최고다! 호기심딱지', '나눔 0700', '김상혁, 딘딘의 오빠네 라디오', '굿모닝 정보세상', '세상의 모든 다큐', '유 퀴즈 온 더 블럭', '돈워리 스쿨 2', '최영아의 책하고 놀자', '시사기획 창', '회사 가기 싫어', '생방송 톡!톡! 보니 하니', '퍼니스트 홈비디오', '황정민의 뮤직쇼', 'TV 주치의 닥터 지.바.고', '보이는 라디오 - EBS 초급 태국어', '저널리즘 토크쇼 J', '꼬마버스 타요', '슬기로운 의사생활', '하와이 파이브-오 5', '집사부일체 1부', '어서와', '전지적 참견 시점', '런닝맨 2부', '생방송 오늘 저녁', '뉴스파이터', '김정일의 생생가요', '화첩기행', 'EBS 마스터(1)', '러브라인 추리게임 하트시그널 시즌3', '코로나19 통합뉴스룸 KBS 뉴스광장', 'JTBC 스페셜 다큐멘터리', '최화정의 파워타임', '명연주 명음반', '보도본부 핫라인', '본 어게인', '1박 2일', '이재익의 뮤직쇼 3,4부', '삼시세끼 고창편', '차트를 달리는 남자', '송영훈의 가정음악', '포레스트', '허지웅쇼', '미니특공대 슈퍼공룡파워', '뭉찬외전 오싹한 과외', '나는 자연인이다', '이준의 영스트리트', '건축탐구-집', '한국영화특선 <더 테러 라이브>', '자연스럽게', 'KBS 착한 소비 프로젝트 우리 함께', '살림하는 남자들 2', '기분 좋은 날', 'KBS 네트워크 특선 호모사이언스', '미스터트롯 완전정복', '신비한TV 서프라이즈', 'KBS 경제타임', '더 라이브', '채널A 스페셜 - 아프리카의 포식자들', '코리아 헌터', '미운 우리 새끼 1부', '화양연화', '애코와 친구들', '세상의 모든 음악(재)', '김진의 돌직구 쇼', 'NCIS 시즌13', '정은지의 가요광장', '신청곡을 불러드립니다-사랑의 콜센타', '코미디 빅리그 Hot clip', '특별기획 중년의 빈틈, 단백질을 채워라!', '휴먼 다큐 사람이 좋다', '여기는 MBC-FM', '매일 10분 영어-지나킴의 고고 리스닝', '정선희, 문천식의 지금은 라디오시대', 'EBS 초대석', '전지적 참견 시점 1부 스페셜', '캐시백', '응답하라 1994', '가정의 달 특집 실화탐사대 2부', '선을 넘는 녀석들 리턴즈 2부', '생방송 오늘 아침', 'TV 동물농장 1부', '지식채널e', 'MBN 스페셜 배틀봇 4', '특집다큐 제2의 뇌, 장이 살아야 내 몸이 산다', '이현경의 뮤직토피아', 'KBS 음악실', '옥탑방의 문제아들', '방송없음', '사장님 귀는 당나귀 귀', '애니메이션 런닝맨 2 스페셜', '맛있는 녀석들', '산들의 별이 빛나는 밤에', 'TV 정보쇼 알짜왕', '간택 - 여인들의 전쟁', '다큐 플러스', '세계테마기행 2부', '방구석 1열', '지붕뚫고 하이킥', '맥가이버 2', 'SBS 오뉴스', '맛남의 광장', 'SBS 스페셜', '돈이 되는 토크쇼 - 머니톡', 'JAZZ 수첩', '안녕하세요 특급고민', '좋은아침', '건강한 아침 황선숙입니다', 'FM 실황음악', '매일 10분 영어-이현석의 정면돌파 스피킹', '놀면 뭐하니?', '상쾌한 아침', '신혜성의 음악 오디세이', '붐붐파워', '김영철의 파워FM', '박명수의 라디오쇼', 'TV예술무대', '꿈꾸는 라디오', '영화가 좋다', '윤택의 에헤라디오', '이재익의 뮤직쇼 1,2부', '수미네 반찬', '공감 플러스', 'KBS 재난방송센터', '생생 정보마당', '아내의 맛 베스트', '수퍼내추럴 시즌9', '12 MBC 뉴스', '공부가 머니?', 'KBS걸작 다큐멘터리', '매일 10분 영어-크리스틴 조의 Travel diary', '백종원의 골목식당 1부', '이제 만나러 갑니다', '글로벌 다큐멘터리', '정산회담', '보이는 라디오 - EBS 초급 베트남어', '신통방통', '나 혼자 산다', '뽀로로와 노래해요', '뉴스(20:00)', '출동! 슈퍼윙스', '트롯신이 떴다 1부', '기막힌 이야기 실제상황', '스탠드 업', '푸른밤 옥상달빛입니다', '코로나19 통합뉴스룸 사사건건', '생활의 달인', '세상에서 가장 아름다운 여행', '김미숙의 가정음악', '코미디 빅리그', '두근두근 방방', '출동! 파자마 삼총사', 'EBS 온라인개학 초등 국어 1-1 가', 'BBB삼총사의 모험', '열린TV 시청자 세상', '특파원 보고 세계는 지금', '곽승준의 쿨까당', '음악의 숲 정승환입니다', 'Sesame Street', '스쿨랜드-예술', 'KBS 아침 뉴스타임', '공부가 머니? 스페셜', '2시의 데이트 뮤지,안영미입니다', '당신의 밤과 음악', 'MBC 뉴스데스크', '엄마 까투리', '김창열의 올드스쿨', 'FM 풍류마을', 'JTBC 이 시각 뉴스룸', '코로나19 통합뉴스룸', 'FM영화음악 김세윤입니다', '서민 갑부', '찾아라! 상상 크리에이터', '출발! 비디오 여행 2부', '조우종의 FM대행진', '슈퍼맨이 돌아왔다', '내 몸 플러스', '설레는 밤, 이혜성입니다', '조정식의 펀펀 투데이', '책을 듣다', '경이로운 지구', '휴먼다큐 사람이 좋다 스페셜', '스토브리그', '차이나는 클라스 스페셜', '연애의 참견 2', '지식의 기쁨', '꿀잼 영화가 좋다', '박준형, 정경미의 2시 만세', '연애 플레이리스트 4', \"도레미 마켓-응답하라 90's\", '스포츠 하이라이트', '모닝와이드 (2부)', '야생여정', '현장르포 특종세상', '신혜림의 JUST POP', '오늘의 문화방송', '뉴스(11:00)', '네트워크 특선', '기막힌 유산', '온앤오프', '출발! 비디오 여행 다이제스트', '권용주, 김나진의 차카차카', '더 킹 : 영원의 군주 2부', '시노스톤 프라임', '무엇이든 물어보살', '뉴스(09:00)', '요즘책방 : 책 읽어드립니다', '노래의 날개 위에', '사건파일 24', 'KBS 중계석 스페셜', '아침&뉴스, 류수민입니다', \"도레미 마켓-응답하라 2010's\", '이웃집 찰스', '그 남자의 기억법', '아내의 맛', 'TV CHOSUN 뉴스', '가장 보통의 가족', '밥은 먹고 다니냐?', '알맹이', '김종배의 시선집중', '2TV 생생정보', '특집다큐H 당신이 몰랐던 체지방의 비밀', 'TV 동물농장', '똑똑 친구, 에디슨', 'CSI:라스베가스 10', 'EBS 마스터(2)', '홈데렐라', 'SBS 낮 종합뉴스', '복면가왕 1부', '즐거운 수학 EBS MATH', '모닝와이드 (1부)', '얼마예요?', '봄밤', '마샤와 곰', '동물의 왕국', '본격연예 한밤 1부', '뉴스A LIVE', '생방송 투데이 1부', '글로벌24', 'SBS 8 뉴스', '뉴스(07:00)', '뭉쳐야 찬다', 'EBS 다큐프라임', '관찰카메라 24', '나쁜 사랑', '김현철의 골든디스크', '과학할고양', '굿캐스팅', '일요진단 라이브', '우리, 사랑을 쓸까요? 더 로맨스', '출발 FM과 함께', '박원의 키스 더 라디오', '강적들 베스트', '정치부 회의', '채널A 금토드라마 유별나! 문셰프', 'EBSe 생활영어', '원더볼즈 시즌2', '출발! 비디오 여행', '[BTS월드투어특집2탄]브링 더 소울: 다큐시리즈1', '비포 선라이즈 김수지입니다', '악인전', '야옹멍멍 귀여워 2', '열린비평 TV를 말하다', '2시 뉴스 외전', '엄마가 바람났다', '이숙영의 러브FM 1,2,3,4부', '코로나19 통합뉴스룸 KBS 뉴스 12', 'SBS 12뉴스', '일요특선 다큐멘터리', 'TV 유치원', '전용우의 뉴스ON', '천기누설 스페셜', '리틀빅히어로 : 더 챌린저', '미스테리야', '세상에 나쁜 개는 없다', '세상의 모든 법칙', '와글와글 미술관', '서인의 새벽다방', '성인 문해교육 프로젝트-공부하기 좋은 날 시즌2', 'TV CHOSUN 뉴스9', '희망TV SBS 스페셜', 'PD수첩', '베토벤 탄생 250주년 기획 백건우 음악회 II', '내고향 스페셜', '영상앨범 산', '사건 반장', '예술아 놀자 시즌2', '지구방위대', '강한나의 볼륨을 높여요', 'KBS 네트워크 특선 콘서트 문화창고', '나쁜사랑', '역사 다시보기 천일야사', '모두의 퀴즈생활, 서유리입니다', '야옹! 클래식', '나만 믿고 따라와, 도시어부 시즌2', '라디오 북클럽 김겨울입니다', '걸어서 세계속으로', '스타와 직거래 유랑마켓 스페셜', '형사 가제트', '가족의 사생활 아빠본색', '살림하는 남자들', '방구석 1열 스페셜', '외출', '자이언트 펭TV', '나르샤의 아브라카다브라', 'EBS 명강', '930 MBC 뉴스', '식객 허영만의 백반기행', '생로병사의 비밀', '채널A 스페셜 - 여우원숭이 섬 이야기', '동상이몽2 <꿀뚝뚝 양봉부부>', '정다운 가곡', 'UHD 특선 다큐 하늘에서 본 세계', '뉴스브리핑', '방귀대장 뿡뿡이', '행복한 아침', '최백호의 낭만시대', '끼리끼리 1부', '띠띠뽀 띠띠뽀', 'NCIS:LA 7', '이진우의 손에 잡히는 경제', '우리 다시 사랑할 수 있을까 2', '내 생애 값진 선택 2', 'DJ래피의 드라이브 뮤직', '아침마당', '뉴스(22:00)', '이승원의 세계는 그리고 우리는', '부부의 세계', '다큐 오늘', '이현우의 음악앨범', '픽시', '구해줘! 홈즈 2부', '모닝와이드 (3부)', 'JTBC NEWS 아침 &', '한국인의 밥상', '매일 10분 영어-세리나의 누구나 톡톡', '박경의 꿈꾸는 라디오', 'EBS 온라인개학 초등 수학 2-1', '100분 토론', '세계테마기행 1부', '소나무', '석가탄신일 스페셜 법륜스님의 즉문즉설', '메모리스트', '인생다큐 마이웨이', 'MBN 뉴스와이드', '미운 우리 새끼 <미우새 종합세트>', '성인문해교육 프로젝트 영어하기 좋은 날2', '60분 드라마 2016', '복면가왕', '[tvN 시네마]암살', '생방송 아침이 좋다', '뉴스(정오 뉴스)', '반의반', '김창옥쇼', '일요시네마 <시간 여행자의 아내>', '뽀롱뽀롱 뽀로로', '미운 우리 새끼 2부', '48+ 좋은 친구들', '뉴스(05:00)', '세미와 매직큐브', '365 : 운명을 거스르는 1년', '전국노래자랑', 'KBS 네트워크 특선 보물섬', '한 번 다녀왔습니다', 'TV CHOSUN 뉴스현장', '뉴스(16:00)', '속풀이쇼 동치미', '세상을 여는 아침 김초롱입니다', '연애의 참견 시즌3', '캐리 앤 송', '미운 우리 새끼 3부', '운빨레이스', '알토란', '아이콘택트 화제의 눈맞춤', '트레킹노트 세상을 걷다 스페셜', '복면가왕 2부', '두시탈출 컬투쇼', '굿모닝 MBN', '조정현의 굿모닝팝스', '개구쟁이 스머프', '아하, 그렇구나!', '체인지', 'EBS 마스터(3)', '시니어 토크쇼 황금연못', '스포츠 매거진', '영혼수선공', '시사쇼 이것이 정치다', '생활의 발견 스페셜', '명연주 명음반(재)', '지구촌 뉴스', '우원재의 Music High', '정글에서 살아남기 3', '모여라 딩동댕', '출발! 비디오 여행 1부', '핫도그랑 만들어볼까요', '구해줘! 홈즈', '대탈출3', '주문 바다요', '사랑하기 좋은 날 이금희입니다', '라바 인 뉴욕', '모두 다 김치', '체험! 사람의 현장 막나가쇼', 'EBS 클래식', '아는 형님', '뉴스 TOP10', '불타는 청춘 2부', '침묵예능 아이콘택트', '뉴스(14:00)', '지니의 뻔뻔한 랭킹쇼-엄지척', '박소현의 러브게임', 'SBS 8시 뉴스', '정치를 한다면 2부', '헬로키즈 신비한 자연교실 2', '이재익의 정치쇼 1,2부', '전지적 참견 시점 2부 스페셜', '시카고 파이어 시즌6', '매일 10분 영어-곽지영의 잉글리시 올인원', '세 남자의 동거 시즌11', '구해줘! 홈즈 1부', '더 킹 : 영원의 군주', 'A특공대 2', 'MBC PICK X 오! 나의 파트,너', '바다 건너 사랑', '다큐멘터리 3일', '고현준의 뉴스 브리핑', '라디오스타 1부', '편애중계 2부 스페셜', '아무도 모른다', '선을 넘는 녀석들 리턴즈 1부', '코로나19 통합뉴스룸 KBS 뉴스 9', '트롯신이 떴다 2부', '오후의 발견 이지혜입니다', '굿모닝FM 장성규입니다', 'UHD 숨터', '팔도밥상 스페셜', '미스터리 식당 Q', '이규연의 스포트라이트 스페셜', '고양이를 부탁해', '불타는 청춘', '신청곡을 불러드립니다-사랑의 콜센타 2부', '한 컷의 과학 시즌2', '김태욱의 기분좋은 밤', '편애중계 1부 스페셜', '인생다큐 마이웨이 특별판', '특집다큐H 관절 통증 전쟁, 관절 수명을 늘려라!', 'MBC 뉴스투데이 2부', '미운 우리 새끼', '소프트웨어야 놀자 시즌2', '뉴스(06:00)', '한국기행', '맨 인 블랙박스', '채널A 스페셜 - 녹색의 꿈', '백종원의 골목식당', 'NCIS:LA 시즌8', '마포 멋쟁이', '무한도전', '뉴스A', '민영방송 공동기획 물은 생명이다', '라디오스타', '팬텀싱어 3', '장예원의 씨네타운', '5 MBC 뉴스', '특집다큐 우리의 얼굴 인간극장 20년', '최고다! 호기심딱지 시즌4', '편애중계', '특별기획 뇌혈관의 경고신호를 잡아라', '세계테마기행', '극한직업', '특집다큐 돌연사 공포 혈관질환, 착한지방이 답이다', '유 퀴즈 온 더 블럭 스페셜', '아침 & 매일경제', 'EBS 뉴스', '레인보우 루비', '6시 내고향', '뉴스(08:00)', '소프트웨어야 놀자', '해요와 해요', '이윤석, 전영미의 좋은 주말'}\n"
     ]
    }
   ],
   "source": [
    "if __name__ == \"__main__\":\n",
    "    fmt = \"%Y-%m-%d %H:%M:%S %Z%z\"\n",
    "    #while (True):\n",
    "    KST = datetime.now(timezone('Asia/Seoul'))\n",
    "    \n",
    "    program_list = set()\n",
    "    \n",
    "    day_list = [20200426, 20200427, 20200428, 20200429, 20200430, 20200501, 20200502, 20200503, 20200504, 20200505]\n",
    "    \n",
    "    p_list = get_tvN(day_list)\n",
    "    for p in p_list:\n",
    "        program_list.add(p)\n",
    "    p_list = get_general(day_list)\n",
    "    for p in p_list:\n",
    "        program_list.add(p)\n",
    "    \n",
    "    print ('len : ', len(program_list))\n",
    "    print (program_list)"
   ]
  },
  {
   "cell_type": "code",
   "execution_count": null,
   "metadata": {},
   "outputs": [],
   "source": []
  },
  {
   "cell_type": "code",
   "execution_count": null,
   "metadata": {},
   "outputs": [],
   "source": []
  }
 ],
 "metadata": {
  "kernelspec": {
   "display_name": "Python 3",
   "language": "python",
   "name": "python3"
  },
  "language_info": {
   "codemirror_mode": {
    "name": "ipython",
    "version": 3
   },
   "file_extension": ".py",
   "mimetype": "text/x-python",
   "name": "python",
   "nbconvert_exporter": "python",
   "pygments_lexer": "ipython3",
   "version": "3.6.7"
  }
 },
 "nbformat": 4,
 "nbformat_minor": 2
}
