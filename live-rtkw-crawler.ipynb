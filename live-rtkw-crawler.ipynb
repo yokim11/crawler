{
 "cells": [
  {
   "cell_type": "code",
   "execution_count": 196,
   "metadata": {
    "collapsed": false
   },
   "outputs": [],
   "source": [
    "#-*- coding: utf-8 -*-\n",
    "\n",
    "from time import sleep\n",
    "import requests\n",
    "import json\n",
    "from pytz import timezone\n",
    "from datetime import datetime\n",
    "from urllib.parse import urlencode\n",
    "from bs4 import BeautifulSoup\n",
    "#import urllib3\n",
    "#urllib3.disable_warnings()"
   ]
  },
  {
   "cell_type": "code",
   "execution_count": 197,
   "metadata": {
    "collapsed": false
   },
   "outputs": [],
   "source": [
    "def send_teamroom(data):\n",
    "    #test방-> url = 'https://teamroom.nate.com/api/webhook/5e5e40b3/d2DptYOG1nL1sXHlRCONSPLq'\n",
    "    url = 'https://teamroom.nate.com/api/webhook/5e5e40b3/U0oZQ6zqS5RRc4cnJabacNNf'\n",
    "    headers = {'Content-Type': 'application/x-www-form-urlencoded; charset=utf-8'}\n",
    "    \n",
    "    query = {'content': data}\n",
    "\n",
    "    ret = requests.post(url, data=query, headers=headers, verify=False)\n",
    "    "
   ]
  },
  {
   "cell_type": "code",
   "execution_count": 198,
   "metadata": {
    "collapsed": true
   },
   "outputs": [],
   "source": [
    "def craw_nate():\n",
    "    req = requests.get('https://javastwo.nate.com/nate/getlivekeyword?callback=RSKS.Init', verify=False)\n",
    "    total_data1 = req.text\n",
    "    total_data2 = total_data1.replace('var arrHotRecent=\\'', '')\n",
    "    total_data3 = total_data2.replace('\\';RSKS.Init();', '')\n",
    "\n",
    "    nate_index = 0\n",
    "    nate_rankings = list()\n",
    "    for r in json.loads(total_data3):\n",
    "        #print (r)\n",
    "        nate_index = nate_index + 1\n",
    "        nate_rankings.insert(nate_index, r[1])\n",
    "        #print (r['rank'], r['keyword'])\n",
    "\n",
    "    return (nate_rankings)"
   ]
  },
  {
   "cell_type": "code",
   "execution_count": 199,
   "metadata": {
    "collapsed": false
   },
   "outputs": [],
   "source": [
    "def craw_naver():\n",
    "    ## Naver 실시간 검색어\n",
    "    req = requests.get('https://www.naver.com/srchrank?frm=main&ag=all&gr=1&ma=-2&si=0&en=0&sp=0', verify=False)\n",
    "    var = json.loads(req.text)\n",
    "    naver_list = var['data']\n",
    "\n",
    "    naver_ranking_time = var['ts']\n",
    "    naver_index = 0\n",
    "    naver_rankings = list()\n",
    "    for r in naver_list:\n",
    "        if (naver_index >= 10):\n",
    "            break\n",
    "        naver_index = naver_index + 1\n",
    "        naver_rankings.insert(r['rank'], r['keyword'])\n",
    "        #print (r['rank'], r['keyword'])\n",
    "        \n",
    "    return (naver_rankings)"
   ]
  },
  {
   "cell_type": "code",
   "execution_count": 200,
   "metadata": {
    "collapsed": true
   },
   "outputs": [],
   "source": [
    "def craw_kakao():\n",
    "    ## KAKAO 실시간 검색어\n",
    "    base_url = 'https://m.daum.net'\n",
    "    req = requests.get(base_url, verify=False)\n",
    "    soup = BeautifulSoup(req.text, \"html.parser\")\n",
    "    total_data = soup.find(attrs={'class': 'keyissue_area'})\n",
    "    total_data2 = total_data.find_all(attrs={'class': 'txt_issue'})\n",
    "\n",
    "    kakao_index = 0\n",
    "    kakao_rankings = list()\n",
    "    for d in total_data2:\n",
    "        kakao_index = kakao_index + 1\n",
    "        kakao_rankings.insert(kakao_index, d.text)\n",
    "        #print(kakao_index, d.text)\n",
    "        \n",
    "    return (kakao_rankings)"
   ]
  },
  {
   "cell_type": "code",
   "execution_count": 201,
   "metadata": {
    "collapsed": true
   },
   "outputs": [],
   "source": [
    "def craw_zum():\n",
    "    ## ZUM 실시간 검색어\n",
    "    base_url = 'http://www.zum.com'\n",
    "    req = requests.get(base_url, verify=False)\n",
    "    soup = BeautifulSoup(req.text, \"html.parser\")\n",
    "    total_data = soup.find(attrs={'class': 'rank_list d_rank_list d_rank_keyword_0'})\n",
    "    total_data2 = total_data.find_all(attrs={'class': 'keyword d_keyword'})\n",
    "    \n",
    "    before_keyword = 'a'\n",
    "    zum_index = 0\n",
    "    zum_rankings = list()\n",
    "    for d in total_data2:\n",
    "        if (d.text == before_keyword):\n",
    "            before_keyword = d.text\n",
    "            continue\n",
    "        zum_index = zum_index + 1\n",
    "        zum_rankings.insert(zum_index, d.text)\n",
    "        before_keyword = d.text\n",
    "        #print(d.text)\n",
    "        \n",
    "    return (zum_rankings)"
   ]
  },
  {
   "cell_type": "code",
   "execution_count": 202,
   "metadata": {
    "collapsed": true
   },
   "outputs": [],
   "source": [
    "def create_message(title, data_rankings):\n",
    "    content = list()\n",
    "    content.append('● {:_<30} \\n'.format(title))\n",
    "    for i in range(10):\n",
    "        content.append('[{:2d}] {}\\n'.format(i+1, data_rankings[i]))\n",
    "\n",
    "    return (''.join(content))"
   ]
  },
  {
   "cell_type": "code",
   "execution_count": null,
   "metadata": {
    "collapsed": false
   },
   "outputs": [
    {
     "name": "stderr",
     "output_type": "stream",
     "text": [
      "/opt/conda/envs/ml_python34/lib/python3.4/site-packages/requests/packages/urllib3/connectionpool.py:821: InsecureRequestWarning: Unverified HTTPS request is being made. Adding certificate verification is strongly advised. See: https://urllib3.readthedocs.org/en/latest/security.html\n",
      "  InsecureRequestWarning)\n",
      "/opt/conda/envs/ml_python34/lib/python3.4/site-packages/requests/packages/urllib3/connectionpool.py:821: InsecureRequestWarning: Unverified HTTPS request is being made. Adding certificate verification is strongly advised. See: https://urllib3.readthedocs.org/en/latest/security.html\n",
      "  InsecureRequestWarning)\n",
      "/opt/conda/envs/ml_python34/lib/python3.4/site-packages/requests/packages/urllib3/connectionpool.py:821: InsecureRequestWarning: Unverified HTTPS request is being made. Adding certificate verification is strongly advised. See: https://urllib3.readthedocs.org/en/latest/security.html\n",
      "  InsecureRequestWarning)\n",
      "/opt/conda/envs/ml_python34/lib/python3.4/site-packages/requests/packages/urllib3/connectionpool.py:821: InsecureRequestWarning: Unverified HTTPS request is being made. Adding certificate verification is strongly advised. See: https://urllib3.readthedocs.org/en/latest/security.html\n",
      "  InsecureRequestWarning)\n"
     ]
    }
   ],
   "source": [
    "if __name__ == \"__main__\":\n",
    "    fmt = \"%Y-%m-%d %H:%M:%S %Z%z\"\n",
    "    while (True):\n",
    "        KST = datetime.now(timezone('Asia/Seoul'))\n",
    "\n",
    "        content = []\n",
    "        content.append('● 크롤링 : {}\\n'.format(KST))\n",
    "        content.append(create_message('NATE', craw_nate()))\n",
    "        content.append(create_message('NAVER', craw_naver()))\n",
    "        content.append(create_message('KAKAO', craw_kakao()))\n",
    "        content.append(create_message('ZUM', craw_zum()))\n",
    "\n",
    "        send_teamroom(''.join(content))\n",
    "        sleep(5*60)"
   ]
  }
 ],
 "metadata": {
  "kernelspec": {
   "display_name": "Python 3",
   "language": "python",
   "name": "python3"
  },
  "language_info": {
   "codemirror_mode": {
    "name": "ipython",
    "version": 3
   },
   "file_extension": ".py",
   "mimetype": "text/x-python",
   "name": "python",
   "nbconvert_exporter": "python",
   "pygments_lexer": "ipython3",
   "version": "3.4.5"
  }
 },
 "nbformat": 4,
 "nbformat_minor": 0
}
