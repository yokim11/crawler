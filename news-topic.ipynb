{
 "cells": [
  {
   "cell_type": "code",
   "execution_count": 1,
   "metadata": {},
   "outputs": [],
   "source": [
    "#-*- coding: utf-8 -*-\n",
    "\n",
    "from time import sleep\n",
    "import requests\n",
    "import json\n",
    "from pytz import timezone\n",
    "from datetime import datetime\n",
    "from urllib.parse import urlencode\n",
    "from bs4 import BeautifulSoup\n",
    "#import urllib3\n",
    "#urllib3.disable_warnings()"
   ]
  },
  {
   "cell_type": "code",
   "execution_count": 2,
   "metadata": {},
   "outputs": [],
   "source": [
    "def send_teamroom(data):\n",
    "    #test방-> url = 'https://teamroom.nate.com/api/webhook/5e5e40b3/d2DptYOG1nL1sXHlRCONSPLq'\n",
    "    url = 'https://teamroom.nate.com/api/webhook/5e5e40b3/U0oZQ6zqS5RRc4cnJabacNNf'\n",
    "    headers = {'Content-Type': 'application/x-www-form-urlencoded; charset=utf-8'}\n",
    "    \n",
    "    query = {'content': data}\n",
    "\n",
    "    ret = requests.post(url, data=query, headers=headers, verify=False)\n",
    "    "
   ]
  },
  {
   "cell_type": "code",
   "execution_count": 20,
   "metadata": {},
   "outputs": [],
   "source": [
    "def craw_naver():\n",
    "    ## NAVER NEWS\n",
    "    base_url = 'https://news.naver.com/main/list.nhn?mode=LSD&mid=sec&sid1=001'\n",
    "    req = requests.get(base_url, verify=False)\n",
    "    soup = BeautifulSoup(req.text, \"html.parser\")\n",
    "    total_data = soup.find(attrs={'class': 'section hottopic'})\n",
    "    total_data2 = total_data.find_all(attrs={'class': 'title'})\n",
    "\n",
    "    craw_index = 0\n",
    "    craw_rankings = list()\n",
    "    for d in total_data2:\n",
    "        craw_index = craw_index + 1\n",
    "        craw_rankings.insert(craw_index, d.text)\n",
    "        print(craw_index, d.text)\n",
    "        \n",
    "    return (craw_rankings)"
   ]
  },
  {
   "cell_type": "code",
   "execution_count": 23,
   "metadata": {},
   "outputs": [],
   "source": [
    "def create_message(title, data_rankings):\n",
    "    content = list()\n",
    "    content.append('● {:_<30} \\n'.format(title))\n",
    "    for i in range(len(data_rankings)):\n",
    "        if (i == 0):\n",
    "            content.append('--- 뉴스\\n')\n",
    "        if (i == 10):\n",
    "            content.append('--- 연예/스포츠\\n')\n",
    "        content.append('[{:2d}] {}\\n'.format(i+1, data_rankings[i]))\n",
    "\n",
    "    return (''.join(content))"
   ]
  },
  {
   "cell_type": "code",
   "execution_count": 24,
   "metadata": {},
   "outputs": [
    {
     "name": "stdout",
     "output_type": "stream",
     "text": [
      "1 오늘의 날씨\n",
      "2 다우 3.58%↓\n",
      "3 코로나19 확산\n",
      "4 코로나19 확진자\n",
      "5 외교부 일본 입국거부\n",
      "6 WHO 고무적 조짐\n",
      "7 마스크 5부제\n",
      "8 미세먼지는 보통\n",
      "9 외교부 상응조치 검토\n",
      "10 안보리 유럽 5개국\n",
      "11 마스크 알리미\n",
      "12 미스터트롯 임영웅\n",
      "13 해투4 유재석\n",
      "14 지숙♥ 이두희\n",
      "15 코로나19 기부\n",
      "16 미스터트롯 시청률 33.8%\n",
      "17 반의반 정해인\n",
      "18 맛남의 광장 김동준\n",
      "19 이십세기 힛-트쏭\n",
      "20 옹성우 발매\n",
      "● 뉴스토픽 크롤링 : 2020-03-06 11:47:29.997045+09:00\n",
      "● NAVER_________________________ \n",
      "뉴스\n",
      "[ 1] 오늘의 날씨\n",
      "[ 2] 다우 3.58%↓\n",
      "[ 3] 코로나19 확산\n",
      "[ 4] 코로나19 확진자\n",
      "[ 5] 외교부 일본 입국거부\n",
      "[ 6] WHO 고무적 조짐\n",
      "[ 7] 마스크 5부제\n",
      "[ 8] 미세먼지는 보통\n",
      "[ 9] 외교부 상응조치 검토\n",
      "[10] 안보리 유럽 5개국\n",
      "연예/스포츠\n",
      "[11] 마스크 알리미\n",
      "[12] 미스터트롯 임영웅\n",
      "[13] 해투4 유재석\n",
      "[14] 지숙♥ 이두희\n",
      "[15] 코로나19 기부\n",
      "[16] 미스터트롯 시청률 33.8%\n",
      "[17] 반의반 정해인\n",
      "[18] 맛남의 광장 김동준\n",
      "[19] 이십세기 힛-트쏭\n",
      "[20] 옹성우 발매\n",
      "\n"
     ]
    },
    {
     "name": "stderr",
     "output_type": "stream",
     "text": [
      "/opt/conda/lib/python3.7/site-packages/urllib3/connectionpool.py:1004: InsecureRequestWarning: Unverified HTTPS request is being made. Adding certificate verification is strongly advised. See: https://urllib3.readthedocs.io/en/latest/advanced-usage.html#ssl-warnings\n",
      "  InsecureRequestWarning,\n"
     ]
    }
   ],
   "source": [
    "if __name__ == \"__main__\":\n",
    "    fmt = \"%Y-%m-%d %H:%M:%S %Z%z\"\n",
    "    while (True):\n",
    "        KST = datetime.now(timezone('Asia/Seoul'))\n",
    "\n",
    "        content = []\n",
    "        content.append('● 뉴스토픽 크롤링 : {}\\n'.format(KST))\n",
    "        content.append(create_message('NAVER', craw_naver()))\n",
    "\n",
    "        print(''.join(content))\n",
    "        send_teamroom(''.join(content))\n",
    "        sleep(3*60*60)"
   ]
  },
  {
   "cell_type": "code",
   "execution_count": null,
   "metadata": {},
   "outputs": [],
   "source": []
  }
 ],
 "metadata": {
  "kernelspec": {
   "display_name": "Python 3",
   "language": "python",
   "name": "python3"
  },
  "language_info": {
   "codemirror_mode": {
    "name": "ipython",
    "version": 3
   },
   "file_extension": ".py",
   "mimetype": "text/x-python",
   "name": "python",
   "nbconvert_exporter": "python",
   "pygments_lexer": "ipython3",
   "version": "3.7.4"
  }
 },
 "nbformat": 4,
 "nbformat_minor": 4
}
